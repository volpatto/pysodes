{
 "cells": [
  {
   "cell_type": "code",
   "execution_count": 1,
   "metadata": {},
   "outputs": [],
   "source": [
    "import numpy as np\n",
    "from scipy.integrate import solve_ivp\n",
    "\n",
    "from pysodes.odeint import solve_ivp_wrapper"
   ]
  },
  {
   "cell_type": "code",
   "execution_count": 2,
   "metadata": {},
   "outputs": [],
   "source": [
    "def lorenz(x, dxdt, t):\n",
    "    sigma = 10.0\n",
    "    R = 28.0\n",
    "    b = 8.0 / 3.0\n",
    "\n",
    "    dxdt[0] = sigma * (x[1] - x[0])\n",
    "    dxdt[1] = R * x[0] - x[1] - x[0] * x[2]\n",
    "    dxdt[2] = -b * x[2] + x[0] * x[1]\n",
    "\n",
    "    return dxdt\n",
    "\n",
    "\n",
    "def lorenz_scipy(t, y):\n",
    "    sigma = 10.0\n",
    "    R = 28.0\n",
    "    b = 8.0 / 3.0\n",
    "\n",
    "    dydt_0 = sigma * (y[1] - y[0])\n",
    "    dydt_1 = R * y[0] - y[1] - y[0] * y[2]\n",
    "    dydt_2 = -b * y[2] + y[0] * y[1]\n",
    "\n",
    "    return dydt_0, dydt_1, dydt_2"
   ]
  },
  {
   "cell_type": "code",
   "execution_count": 3,
   "metadata": {},
   "outputs": [
    {
     "data": {
      "text/plain": [
       "20000"
      ]
     },
     "execution_count": 3,
     "metadata": {},
     "output_type": "execute_result"
    }
   ],
   "source": [
    "t_span = (0., 10.)\n",
    "dt = 0.0005\n",
    "N = int((t_span[1] - t_span[0]) / dt)\n",
    "t_eval_scipy = np.linspace(t_span[0], t_span[1], N)\n",
    "y0 = np.array([0., 1., 0.1])\n",
    "N"
   ]
  },
  {
   "cell_type": "code",
   "execution_count": 4,
   "metadata": {},
   "outputs": [
    {
     "name": "stdout",
     "output_type": "stream",
     "text": [
      "335 ms ± 2.74 ms per loop (mean ± std. dev. of 7 runs, 1 loop each)\n"
     ]
    }
   ],
   "source": [
    "%%timeit\n",
    "time, solution = solve_ivp_wrapper(lorenz, t_span, dt, y0)"
   ]
  },
  {
   "cell_type": "code",
   "execution_count": 5,
   "metadata": {},
   "outputs": [
    {
     "name": "stdout",
     "output_type": "stream",
     "text": [
      "[-5.85657668 -5.33333951 24.70452089]\n"
     ]
    }
   ],
   "source": [
    "time, solution = solve_ivp_wrapper(lorenz, t_span, dt, y0)\n",
    "print(solution[-1])"
   ]
  },
  {
   "cell_type": "code",
   "execution_count": 6,
   "metadata": {},
   "outputs": [
    {
     "name": "stdout",
     "output_type": "stream",
     "text": [
      "17.8 ms ± 169 µs per loop (mean ± std. dev. of 7 runs, 100 loops each)\n"
     ]
    }
   ],
   "source": [
    "%%timeit\n",
    "result = solve_ivp(lorenz_scipy, t_span, y0, t_eval=t_eval_scipy, method='RK45')"
   ]
  },
  {
   "cell_type": "code",
   "execution_count": 7,
   "metadata": {},
   "outputs": [
    {
     "data": {
      "text/plain": [
       "array([-6.00701454, -5.33357496, 25.10274072])"
      ]
     },
     "execution_count": 7,
     "metadata": {},
     "output_type": "execute_result"
    }
   ],
   "source": [
    "result = solve_ivp(lorenz_scipy, t_span, y0, t_eval=t_eval_scipy, method='RK45')\n",
    "result.y[:,-1]"
   ]
  }
 ],
 "metadata": {
  "kernelspec": {
   "display_name": "Python 3",
   "language": "python",
   "name": "python3"
  },
  "language_info": {
   "codemirror_mode": {
    "name": "ipython",
    "version": 3
   },
   "file_extension": ".py",
   "mimetype": "text/x-python",
   "name": "python",
   "nbconvert_exporter": "python",
   "pygments_lexer": "ipython3",
   "version": "3.8.6"
  }
 },
 "nbformat": 4,
 "nbformat_minor": 4
}
